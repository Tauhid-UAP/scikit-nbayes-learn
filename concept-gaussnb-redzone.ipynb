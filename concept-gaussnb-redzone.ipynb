{
 "cells": [
  {
   "cell_type": "code",
   "execution_count": 34,
   "id": "2c2afafd",
   "metadata": {},
   "outputs": [],
   "source": [
    "from sklearn import preprocessing\n",
    "from sklearn.naive_bayes import GaussianNB\n",
    "\n",
    "# https://www.datacamp.com/community/tutorials/naive-bayes-scikit-learn\n",
    "\n",
    "# Example data for the corresponding features\n",
    "covid_result = [True, False, False, True, False]\n",
    "visited_outside = [False, False, True, True, True]\n",
    "other_interaction = [True, True, True, True, False]\n",
    "wore_mask = [True, True, False, True, True]\n",
    "wore_ppe = [False, False, False, True, False]\n",
    "locations = ['Rajabazar', 'Gulshan', 'Dhanmondi', 'Rajabazar', 'Gulshan']"
   ]
  },
  {
   "cell_type": "code",
   "execution_count": 35,
   "id": "203d1cb5",
   "metadata": {},
   "outputs": [
    {
     "name": "stdout",
     "output_type": "stream",
     "text": [
      "[1 0 0 1 0]\n",
      "[0 0 1 1 1]\n",
      "[1 1 1 1 0]\n",
      "[1 1 0 1 1]\n",
      "[0 0 0 1 0]\n",
      "[2 1 0 2 1]\n",
      "location_classes:  ['Dhanmondi' 'Gulshan' 'Rajabazar']\n"
     ]
    }
   ],
   "source": [
    "# encode data to integers\n",
    "\n",
    "le = preprocessing.LabelEncoder()\n",
    "\n",
    "label = le.fit_transform(covid_result)\n",
    "print(label)\n",
    "visited_outside_encoded = le.fit_transform(visited_outside)\n",
    "print(visited_outside_encoded)\n",
    "other_interaction_encoded = le.fit_transform(other_interaction)\n",
    "print(other_interaction_encoded)\n",
    "wore_mask_encoded = le.fit_transform(wore_mask)\n",
    "print(wore_mask_encoded)\n",
    "wore_ppe_encoded = le.fit_transform(wore_ppe)\n",
    "print(wore_ppe_encoded)\n",
    "locations_encoded = le.fit_transform(locations)\n",
    "print(locations_encoded)\n",
    "\n",
    "# le will work with respect to\n",
    "# the last example set that was fitted\n",
    "\n",
    "# le.classes_ contains classes of the last\n",
    "# example set that was fitted\n",
    "# store location classes for later use\n",
    "# location_classes = le.classes_\n",
    "# print('location_classes: ', location_classes)"
   ]
  },
  {
   "cell_type": "code",
   "execution_count": 36,
   "id": "df8f01d2",
   "metadata": {},
   "outputs": [
    {
     "name": "stdout",
     "output_type": "stream",
     "text": [
      "[(0, 1, 1, 0, 2), (0, 1, 1, 0, 1), (1, 1, 0, 0, 0), (1, 1, 1, 1, 2), (1, 0, 1, 0, 1)]\n",
      "[(1,), (0,), (0,), (1,), (0,)]\n"
     ]
    }
   ],
   "source": [
    "# bind data of the same row together\n",
    "features = list(zip(\n",
    "    visited_outside_encoded,\n",
    "    other_interaction_encoded,\n",
    "    wore_mask_encoded,\n",
    "    wore_ppe_encoded,\n",
    "    locations_encoded\n",
    "))\n",
    "\n",
    "print('features: ', features)\n",
    "print('label: ', label)"
   ]
  },
  {
   "cell_type": "code",
   "execution_count": 37,
   "id": "a4fc0615",
   "metadata": {},
   "outputs": [
    {
     "name": "stderr",
     "output_type": "stream",
     "text": [
      "f:\\python-projects\\scikit-nbayes-learn\\venv\\lib\\site-packages\\sklearn\\utils\\validation.py:63: DataConversionWarning: A column-vector y was passed when a 1d array was expected. Please change the shape of y to (n_samples, ), for example using ravel().\n",
      "  return f(*args, **kwargs)\n"
     ]
    },
    {
     "data": {
      "text/plain": [
       "GaussianNB()"
      ]
     },
     "execution_count": 37,
     "metadata": {},
     "output_type": "execute_result"
    }
   ],
   "source": [
    "# build model using features (routine info) and label (covid results)\n",
    "model = GaussianNB()\n",
    "model.fit(features, label)"
   ]
  },
  {
   "cell_type": "code",
   "execution_count": 42,
   "id": "186eb3d3",
   "metadata": {},
   "outputs": [
    {
     "data": {
      "text/plain": [
       "[0, 1, 1, 0, 2]"
      ]
     },
     "execution_count": 42,
     "metadata": {},
     "output_type": "execute_result"
    }
   ],
   "source": [
    "# transform each input\n",
    "# to the fitted data\n",
    "# used to build Gaussian Naive Bayes model\n",
    "visited_outside_input = 0\n",
    "other_interaction_input = 1\n",
    "wore_mask_input = 1\n",
    "wore_ppe_input = 0\n",
    "location_input = 'Rajabazar'\n",
    "\n",
    "# le will work with respect to location\n",
    "# since that feature was fitted last\n",
    "location_input_encoded = le.transform([location_input])[0]\n",
    "\n",
    "encoded_input = [visited_outside_input, other_interaction_input, wore_mask_input, wore_ppe_input, location_input_encoded]\n",
    "encoded_input"
   ]
  },
  {
   "cell_type": "code",
   "execution_count": 44,
   "id": "2db38b6f",
   "metadata": {},
   "outputs": [
    {
     "data": {
      "text/plain": [
       "1"
      ]
     },
     "execution_count": 44,
     "metadata": {},
     "output_type": "execute_result"
    }
   ],
   "source": [
    "predicted = model.predict([encoded_input])[0]\n",
    "predicted"
   ]
  },
  {
   "cell_type": "code",
   "execution_count": null,
   "id": "331b3bdd",
   "metadata": {},
   "outputs": [],
   "source": []
  }
 ],
 "metadata": {
  "kernelspec": {
   "display_name": "Python 3",
   "language": "python",
   "name": "python3"
  },
  "language_info": {
   "codemirror_mode": {
    "name": "ipython",
    "version": 3
   },
   "file_extension": ".py",
   "mimetype": "text/x-python",
   "name": "python",
   "nbconvert_exporter": "python",
   "pygments_lexer": "ipython3",
   "version": "3.8.3"
  }
 },
 "nbformat": 4,
 "nbformat_minor": 5
}